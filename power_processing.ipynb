{
 "cells": [
  {
   "cell_type": "code",
   "execution_count": 46,
   "metadata": {},
   "outputs": [],
   "source": [
    "import pandas as pd\n",
    "import numpy as np \n",
    "import matplotlib.pyplot as plt\n",
    "import re\n",
    "import datetime as dt\n"
   ]
  },
  {
   "cell_type": "code",
   "execution_count": 47,
   "metadata": {},
   "outputs": [],
   "source": [
    "#input_file =\"Energy_2020_03_13_03_55_PM.csv\"\n",
    "out_filename = \"processed_energy.csv\""
   ]
  },
  {
   "cell_type": "code",
   "execution_count": 48,
   "metadata": {},
   "outputs": [],
   "source": [
    "data = pd.read_csv(out_filename, sep=\",\", error_bad_lines=False)"
   ]
  },
  {
   "cell_type": "code",
   "execution_count": 49,
   "metadata": {},
   "outputs": [
    {
     "data": {
      "text/html": [
       "<div>\n",
       "<style scoped>\n",
       "    .dataframe tbody tr th:only-of-type {\n",
       "        vertical-align: middle;\n",
       "    }\n",
       "\n",
       "    .dataframe tbody tr th {\n",
       "        vertical-align: top;\n",
       "    }\n",
       "\n",
       "    .dataframe thead th {\n",
       "        text-align: right;\n",
       "    }\n",
       "</style>\n",
       "<table border=\"1\" class=\"dataframe\">\n",
       "  <thead>\n",
       "    <tr style=\"text-align: right;\">\n",
       "      <th></th>\n",
       "      <th>ConsumedMegajoules</th>\n",
       "      <th>NodeName</th>\n",
       "      <th>Lowestkilojoules</th>\n",
       "      <th>Partitions</th>\n",
       "      <th>AvailableFeatures</th>\n",
       "      <th>SlurmdStartTime</th>\n",
       "    </tr>\n",
       "  </thead>\n",
       "  <tbody>\n",
       "    <tr>\n",
       "      <td>0</td>\n",
       "      <td>14.455238</td>\n",
       "      <td>gpu01</td>\n",
       "      <td>327.905</td>\n",
       "      <td>gpu</td>\n",
       "      <td>128gb,broadwell-ep,e5-2640v4</td>\n",
       "      <td>2020-03-06T14:56:42</td>\n",
       "    </tr>\n",
       "    <tr>\n",
       "      <td>1</td>\n",
       "      <td>22.178750</td>\n",
       "      <td>gpu02</td>\n",
       "      <td>89.486</td>\n",
       "      <td>gpu</td>\n",
       "      <td>32gb,sandybridge-ep,e5-2665</td>\n",
       "      <td>2020-03-06T14:56:44</td>\n",
       "    </tr>\n",
       "    <tr>\n",
       "      <td>2</td>\n",
       "      <td>97.320117</td>\n",
       "      <td>node01</td>\n",
       "      <td>508.775</td>\n",
       "      <td>cmsp</td>\n",
       "      <td>omnipart,128gb,broadwell-ep,e5-2640v4</td>\n",
       "      <td>2020-03-06T14:56:35</td>\n",
       "    </tr>\n",
       "    <tr>\n",
       "      <td>3</td>\n",
       "      <td>92.215966</td>\n",
       "      <td>node02</td>\n",
       "      <td>348.011</td>\n",
       "      <td>cmsp</td>\n",
       "      <td>omnipart,128gb,broadwell-ep,e5-2640v4</td>\n",
       "      <td>2020-03-06T14:56:35</td>\n",
       "    </tr>\n",
       "    <tr>\n",
       "      <td>4</td>\n",
       "      <td>96.752409</td>\n",
       "      <td>node03</td>\n",
       "      <td>502.728</td>\n",
       "      <td>cmsp</td>\n",
       "      <td>omnipart,128gb,broadwell-ep,e5-2640v4</td>\n",
       "      <td>2020-03-06T14:56:35</td>\n",
       "    </tr>\n",
       "    <tr>\n",
       "      <td>...</td>\n",
       "      <td>...</td>\n",
       "      <td>...</td>\n",
       "      <td>...</td>\n",
       "      <td>...</td>\n",
       "      <td>...</td>\n",
       "      <td>...</td>\n",
       "    </tr>\n",
       "    <tr>\n",
       "      <td>142</td>\n",
       "      <td>12.350000</td>\n",
       "      <td>node93</td>\n",
       "      <td>48.460</td>\n",
       "      <td>esp</td>\n",
       "      <td>infiniband,64gb,ivybridge-ep,e5-2680v2</td>\n",
       "      <td>2020-03-06T14:56:35</td>\n",
       "    </tr>\n",
       "    <tr>\n",
       "      <td>143</td>\n",
       "      <td>48.090000</td>\n",
       "      <td>node109</td>\n",
       "      <td>75.480</td>\n",
       "      <td>esp1</td>\n",
       "      <td>infiniband,64gb,ivybridge-ep,e5-2680v2</td>\n",
       "      <td>2020-03-06T14:56:35</td>\n",
       "    </tr>\n",
       "    <tr>\n",
       "      <td>144</td>\n",
       "      <td>19.450000</td>\n",
       "      <td>node132</td>\n",
       "      <td>149.120</td>\n",
       "      <td>long</td>\n",
       "      <td>infiniband,64gb,ivybridge-ep,e5-2680v2</td>\n",
       "      <td>2020-03-06T14:56:36</td>\n",
       "    </tr>\n",
       "    <tr>\n",
       "      <td>145</td>\n",
       "      <td>16.310000</td>\n",
       "      <td>node133</td>\n",
       "      <td>134.120</td>\n",
       "      <td>long</td>\n",
       "      <td>infiniband,64gb,ivybridge-ep,e5-2680v2</td>\n",
       "      <td>2020-03-06T14:56:37</td>\n",
       "    </tr>\n",
       "    <tr>\n",
       "      <td>146</td>\n",
       "      <td>19.010000</td>\n",
       "      <td>node134</td>\n",
       "      <td>78.100</td>\n",
       "      <td>long</td>\n",
       "      <td>infiniband,64gb,ivybridge-ep,e5-2680v2</td>\n",
       "      <td>2020-03-06T14:56:37</td>\n",
       "    </tr>\n",
       "  </tbody>\n",
       "</table>\n",
       "<p>147 rows × 6 columns</p>\n",
       "</div>"
      ],
      "text/plain": [
       "     ConsumedMegajoules NodeName  Lowestkilojoules Partitions  \\\n",
       "0             14.455238    gpu01           327.905        gpu   \n",
       "1             22.178750    gpu02            89.486        gpu   \n",
       "2             97.320117   node01           508.775       cmsp   \n",
       "3             92.215966   node02           348.011       cmsp   \n",
       "4             96.752409   node03           502.728       cmsp   \n",
       "..                  ...      ...               ...        ...   \n",
       "142           12.350000   node93            48.460        esp   \n",
       "143           48.090000  node109            75.480       esp1   \n",
       "144           19.450000  node132           149.120       long   \n",
       "145           16.310000  node133           134.120       long   \n",
       "146           19.010000  node134            78.100       long   \n",
       "\n",
       "                          AvailableFeatures      SlurmdStartTime  \n",
       "0              128gb,broadwell-ep,e5-2640v4  2020-03-06T14:56:42  \n",
       "1               32gb,sandybridge-ep,e5-2665  2020-03-06T14:56:44  \n",
       "2     omnipart,128gb,broadwell-ep,e5-2640v4  2020-03-06T14:56:35  \n",
       "3     omnipart,128gb,broadwell-ep,e5-2640v4  2020-03-06T14:56:35  \n",
       "4     omnipart,128gb,broadwell-ep,e5-2640v4  2020-03-06T14:56:35  \n",
       "..                                      ...                  ...  \n",
       "142  infiniband,64gb,ivybridge-ep,e5-2680v2  2020-03-06T14:56:35  \n",
       "143  infiniband,64gb,ivybridge-ep,e5-2680v2  2020-03-06T14:56:35  \n",
       "144  infiniband,64gb,ivybridge-ep,e5-2680v2  2020-03-06T14:56:36  \n",
       "145  infiniband,64gb,ivybridge-ep,e5-2680v2  2020-03-06T14:56:37  \n",
       "146  infiniband,64gb,ivybridge-ep,e5-2680v2  2020-03-06T14:56:37  \n",
       "\n",
       "[147 rows x 6 columns]"
      ]
     },
     "metadata": {},
     "output_type": "display_data"
    }
   ],
   "source": [
    "#data \n",
    "from IPython.display import display\n",
    "pd.options.display.max_columns = None\n",
    "display(data)"
   ]
  },
  {
   "cell_type": "code",
   "execution_count": 50,
   "metadata": {},
   "outputs": [
    {
     "data": {
      "text/plain": [
       "608305.0"
      ]
     },
     "execution_count": 50,
     "metadata": {},
     "output_type": "execute_result"
    }
   ],
   "source": [
    "#Compute time\n",
    "# 2019-10-17T10:18:38\n",
    "#starting_time = '2020-03-13 15:55'\n",
    "a = dt.datetime.fromisoformat('2020-03-06T14:56:35')\n",
    "starting_time = dt.datetime(2020, 3, 13, 15, 55)\n",
    "\n",
    "def cal_time_diff(end, start = starting_time):\n",
    "    return (start-end).total_seconds()\n",
    "\n",
    "cal_time_diff(a)"
   ]
  },
  {
   "cell_type": "code",
   "execution_count": 51,
   "metadata": {},
   "outputs": [
    {
     "data": {
      "text/html": [
       "<div>\n",
       "<style scoped>\n",
       "    .dataframe tbody tr th:only-of-type {\n",
       "        vertical-align: middle;\n",
       "    }\n",
       "\n",
       "    .dataframe tbody tr th {\n",
       "        vertical-align: top;\n",
       "    }\n",
       "\n",
       "    .dataframe thead th {\n",
       "        text-align: right;\n",
       "    }\n",
       "</style>\n",
       "<table border=\"1\" class=\"dataframe\">\n",
       "  <thead>\n",
       "    <tr style=\"text-align: right;\">\n",
       "      <th></th>\n",
       "      <th>ConsumedMegajoules</th>\n",
       "      <th>NodeName</th>\n",
       "      <th>Lowestkilojoules</th>\n",
       "      <th>Partitions</th>\n",
       "      <th>AvailableFeatures</th>\n",
       "      <th>SlurmdStartTime</th>\n",
       "      <th>period</th>\n",
       "    </tr>\n",
       "  </thead>\n",
       "  <tbody>\n",
       "    <tr>\n",
       "      <td>0</td>\n",
       "      <td>14.455238</td>\n",
       "      <td>gpu01</td>\n",
       "      <td>327.905</td>\n",
       "      <td>gpu</td>\n",
       "      <td>128gb,broadwell-ep,e5-2640v4</td>\n",
       "      <td>2020-03-06T14:56:42</td>\n",
       "      <td>608298.0</td>\n",
       "    </tr>\n",
       "    <tr>\n",
       "      <td>1</td>\n",
       "      <td>22.178750</td>\n",
       "      <td>gpu02</td>\n",
       "      <td>89.486</td>\n",
       "      <td>gpu</td>\n",
       "      <td>32gb,sandybridge-ep,e5-2665</td>\n",
       "      <td>2020-03-06T14:56:44</td>\n",
       "      <td>608296.0</td>\n",
       "    </tr>\n",
       "    <tr>\n",
       "      <td>2</td>\n",
       "      <td>97.320117</td>\n",
       "      <td>node01</td>\n",
       "      <td>508.775</td>\n",
       "      <td>cmsp</td>\n",
       "      <td>omnipart,128gb,broadwell-ep,e5-2640v4</td>\n",
       "      <td>2020-03-06T14:56:35</td>\n",
       "      <td>608305.0</td>\n",
       "    </tr>\n",
       "    <tr>\n",
       "      <td>3</td>\n",
       "      <td>92.215966</td>\n",
       "      <td>node02</td>\n",
       "      <td>348.011</td>\n",
       "      <td>cmsp</td>\n",
       "      <td>omnipart,128gb,broadwell-ep,e5-2640v4</td>\n",
       "      <td>2020-03-06T14:56:35</td>\n",
       "      <td>608305.0</td>\n",
       "    </tr>\n",
       "    <tr>\n",
       "      <td>4</td>\n",
       "      <td>96.752409</td>\n",
       "      <td>node03</td>\n",
       "      <td>502.728</td>\n",
       "      <td>cmsp</td>\n",
       "      <td>omnipart,128gb,broadwell-ep,e5-2640v4</td>\n",
       "      <td>2020-03-06T14:56:35</td>\n",
       "      <td>608305.0</td>\n",
       "    </tr>\n",
       "    <tr>\n",
       "      <td>...</td>\n",
       "      <td>...</td>\n",
       "      <td>...</td>\n",
       "      <td>...</td>\n",
       "      <td>...</td>\n",
       "      <td>...</td>\n",
       "      <td>...</td>\n",
       "      <td>...</td>\n",
       "    </tr>\n",
       "    <tr>\n",
       "      <td>142</td>\n",
       "      <td>12.350000</td>\n",
       "      <td>node93</td>\n",
       "      <td>48.460</td>\n",
       "      <td>esp</td>\n",
       "      <td>infiniband,64gb,ivybridge-ep,e5-2680v2</td>\n",
       "      <td>2020-03-06T14:56:35</td>\n",
       "      <td>608305.0</td>\n",
       "    </tr>\n",
       "    <tr>\n",
       "      <td>143</td>\n",
       "      <td>48.090000</td>\n",
       "      <td>node109</td>\n",
       "      <td>75.480</td>\n",
       "      <td>esp1</td>\n",
       "      <td>infiniband,64gb,ivybridge-ep,e5-2680v2</td>\n",
       "      <td>2020-03-06T14:56:35</td>\n",
       "      <td>608305.0</td>\n",
       "    </tr>\n",
       "    <tr>\n",
       "      <td>144</td>\n",
       "      <td>19.450000</td>\n",
       "      <td>node132</td>\n",
       "      <td>149.120</td>\n",
       "      <td>long</td>\n",
       "      <td>infiniband,64gb,ivybridge-ep,e5-2680v2</td>\n",
       "      <td>2020-03-06T14:56:36</td>\n",
       "      <td>608304.0</td>\n",
       "    </tr>\n",
       "    <tr>\n",
       "      <td>145</td>\n",
       "      <td>16.310000</td>\n",
       "      <td>node133</td>\n",
       "      <td>134.120</td>\n",
       "      <td>long</td>\n",
       "      <td>infiniband,64gb,ivybridge-ep,e5-2680v2</td>\n",
       "      <td>2020-03-06T14:56:37</td>\n",
       "      <td>608303.0</td>\n",
       "    </tr>\n",
       "    <tr>\n",
       "      <td>146</td>\n",
       "      <td>19.010000</td>\n",
       "      <td>node134</td>\n",
       "      <td>78.100</td>\n",
       "      <td>long</td>\n",
       "      <td>infiniband,64gb,ivybridge-ep,e5-2680v2</td>\n",
       "      <td>2020-03-06T14:56:37</td>\n",
       "      <td>608303.0</td>\n",
       "    </tr>\n",
       "  </tbody>\n",
       "</table>\n",
       "<p>147 rows × 7 columns</p>\n",
       "</div>"
      ],
      "text/plain": [
       "     ConsumedMegajoules NodeName  Lowestkilojoules Partitions  \\\n",
       "0             14.455238    gpu01           327.905        gpu   \n",
       "1             22.178750    gpu02            89.486        gpu   \n",
       "2             97.320117   node01           508.775       cmsp   \n",
       "3             92.215966   node02           348.011       cmsp   \n",
       "4             96.752409   node03           502.728       cmsp   \n",
       "..                  ...      ...               ...        ...   \n",
       "142           12.350000   node93            48.460        esp   \n",
       "143           48.090000  node109            75.480       esp1   \n",
       "144           19.450000  node132           149.120       long   \n",
       "145           16.310000  node133           134.120       long   \n",
       "146           19.010000  node134            78.100       long   \n",
       "\n",
       "                          AvailableFeatures      SlurmdStartTime    period  \n",
       "0              128gb,broadwell-ep,e5-2640v4  2020-03-06T14:56:42  608298.0  \n",
       "1               32gb,sandybridge-ep,e5-2665  2020-03-06T14:56:44  608296.0  \n",
       "2     omnipart,128gb,broadwell-ep,e5-2640v4  2020-03-06T14:56:35  608305.0  \n",
       "3     omnipart,128gb,broadwell-ep,e5-2640v4  2020-03-06T14:56:35  608305.0  \n",
       "4     omnipart,128gb,broadwell-ep,e5-2640v4  2020-03-06T14:56:35  608305.0  \n",
       "..                                      ...                  ...       ...  \n",
       "142  infiniband,64gb,ivybridge-ep,e5-2680v2  2020-03-06T14:56:35  608305.0  \n",
       "143  infiniband,64gb,ivybridge-ep,e5-2680v2  2020-03-06T14:56:35  608305.0  \n",
       "144  infiniband,64gb,ivybridge-ep,e5-2680v2  2020-03-06T14:56:36  608304.0  \n",
       "145  infiniband,64gb,ivybridge-ep,e5-2680v2  2020-03-06T14:56:37  608303.0  \n",
       "146  infiniband,64gb,ivybridge-ep,e5-2680v2  2020-03-06T14:56:37  608303.0  \n",
       "\n",
       "[147 rows x 7 columns]"
      ]
     },
     "execution_count": 51,
     "metadata": {},
     "output_type": "execute_result"
    }
   ],
   "source": [
    "#calculate the duration from start date or enabling RAPL to disabling it.\n",
    "def add_time_to_df(list_ending_time):\n",
    "    df = []\n",
    "    for x in list_ending_time.to_numpy():\n",
    "        df.append(cal_time_diff(dt.datetime.fromisoformat(x)))  \n",
    "    return  pd.DataFrame(df, columns =['period'])\n",
    "\n",
    "data['period'] = add_time_to_df(data['SlurmdStartTime'])\n",
    "data"
   ]
  },
  {
   "cell_type": "code",
   "execution_count": 52,
   "metadata": {},
   "outputs": [],
   "source": [
    "# Change Megajoules to joules \n",
    "data['ConsumedMegajoules'] = data['ConsumedMegajoules']*1000000  #change Megajoules to joules \n",
    "data['power'] = data['ConsumedMegajoules']/ data['period']"
   ]
  },
  {
   "cell_type": "code",
   "execution_count": 53,
   "metadata": {},
   "outputs": [
    {
     "data": {
      "text/plain": [
       "infiniband,32gb,sandybridge-ep,e5-2620    47\n",
       "infiniband,64gb,ivybridge-ep,e5-2680v2    45\n",
       "omnipart,192,broadwell-ep,e5-2640v4       24\n",
       "omnipart,128gb,broadwell-ep,e5-2640v4     16\n",
       "infiniband,32gb,sandybridge-ep,e5-2650    10\n",
       "32gb,sandybridge-ep,e5-2650                3\n",
       "32gb,sandybridge-ep,e5-2665                1\n",
       "128gb,broadwell-ep,e5-2640v4               1\n",
       "Name: AvailableFeatures, dtype: int64"
      ]
     },
     "execution_count": 53,
     "metadata": {},
     "output_type": "execute_result"
    }
   ],
   "source": [
    "#get number of nodes of a certain type\n",
    "df = data.AvailableFeatures.value_counts()\n",
    "df"
   ]
  },
  {
   "cell_type": "code",
   "execution_count": 54,
   "metadata": {},
   "outputs": [
    {
     "data": {
      "text/plain": [
       "Partitions  AvailableFeatures                     \n",
       "cmsp        omnipart,192,broadwell-ep,e5-2640v4       24\n",
       "            omnipart,128gb,broadwell-ep,e5-2640v4     16\n",
       "esp         infiniband,32gb,sandybridge-ep,e5-2620    35\n",
       "            infiniband,64gb,ivybridge-ep,e5-2680v2     1\n",
       "esp1        infiniband,64gb,ivybridge-ep,e5-2680v2    28\n",
       "gpu         128gb,broadwell-ep,e5-2640v4               1\n",
       "            32gb,sandybridge-ep,e5-2665                1\n",
       "long        infiniband,64gb,ivybridge-ep,e5-2680v2    16\n",
       "            infiniband,32gb,sandybridge-ep,e5-2620    12\n",
       "            infiniband,32gb,sandybridge-ep,e5-2650    10\n",
       "serial      32gb,sandybridge-ep,e5-2650                1\n",
       "testing     32gb,sandybridge-ep,e5-2650                2\n",
       "Name: AvailableFeatures, dtype: int64"
      ]
     },
     "execution_count": 54,
     "metadata": {},
     "output_type": "execute_result"
    }
   ],
   "source": [
    "#get number of nodes grouped by Parttiions \n",
    "data.groupby('Partitions')['AvailableFeatures'].value_counts()"
   ]
  },
  {
   "cell_type": "code",
   "execution_count": 55,
   "metadata": {},
   "outputs": [
    {
     "data": {
      "text/plain": [
       "Partitions  AvailableFeatures                     \n",
       "cmsp        omnipart,128gb,broadwell-ep,e5-2640v4     2368.762704\n",
       "            omnipart,192,broadwell-ep,e5-2640v4       3736.650131\n",
       "esp         infiniband,32gb,sandybridge-ep,e5-2620     782.923908\n",
       "            infiniband,64gb,ivybridge-ep,e5-2680v2      20.302315\n",
       "esp1        infiniband,64gb,ivybridge-ep,e5-2680v2    1663.448807\n",
       "gpu         128gb,broadwell-ep,e5-2640v4                23.763415\n",
       "            32gb,sandybridge-ep,e5-2665                 36.460457\n",
       "long        infiniband,32gb,sandybridge-ep,e5-2620     434.698860\n",
       "            infiniband,32gb,sandybridge-ep,e5-2650     330.136759\n",
       "            infiniband,64gb,ivybridge-ep,e5-2680v2    2364.205112\n",
       "serial      32gb,sandybridge-ep,e5-2650                 69.293349\n",
       "testing     32gb,sandybridge-ep,e5-2650                125.493779\n",
       "Name: power, dtype: float64"
      ]
     },
     "execution_count": 55,
     "metadata": {},
     "output_type": "execute_result"
    }
   ],
   "source": [
    "# Get sum by partitition and features \n",
    "pf_pie_data = data.groupby(['Partitions', 'AvailableFeatures'])['power'].agg('sum')\n",
    "pf_pie_data"
   ]
  },
  {
   "cell_type": "code",
   "execution_count": 56,
   "metadata": {},
   "outputs": [
    {
     "data": {
      "text/plain": [
       "Partitions\n",
       "cmsp       6105.412835\n",
       "esp         803.226224\n",
       "esp1       1663.448807\n",
       "gpu          60.223872\n",
       "long       3129.040731\n",
       "serial       69.293349\n",
       "testing     125.493779\n",
       "Name: power, dtype: float64"
      ]
     },
     "execution_count": 56,
     "metadata": {},
     "output_type": "execute_result"
    }
   ],
   "source": [
    "#Get sum using agg per partition \n",
    "pie_data = data.groupby(['Partitions'])['power'].agg('sum')\n",
    "pie_data"
   ]
  },
  {
   "cell_type": "code",
   "execution_count": 57,
   "metadata": {},
   "outputs": [
    {
     "data": {
      "image/png": "[encoded data removed]",
      "text/plain": [
       "<Figure size 1080x576 with 1 Axes>"
      ]
     },
     "metadata": {},
     "output_type": "display_data"
    }
   ],
   "source": [
    "# Create power pie\n",
    "plot1 = pie_data.plot.pie(subplots=True, autopct='%1.1f%%', startangle=0, figsize=(15, 8))"
   ]
  },
  {
   "cell_type": "code",
   "execution_count": null,
   "metadata": {},
   "outputs": [],
   "source": []
  },
  {
   "cell_type": "code",
   "execution_count": null,
   "metadata": {},
   "outputs": [],
   "source": []
  }
 ],
 "metadata": {
  "kernelspec": {
   "display_name": "Python 3",
   "language": "python",
   "name": "python3"
  },
  "language_info": {
   "codemirror_mode": {
    "name": "ipython",
    "version": 3
   },
   "file_extension": ".py",
   "mimetype": "text/x-python",
   "name": "python",
   "nbconvert_exporter": "python",
   "pygments_lexer": "ipython3",
   "version": "3.7.4"
  }
 },
 "nbformat": 4,
 "nbformat_minor": 4
}
